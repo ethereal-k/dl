{
 "cells": [
  {
   "cell_type": "markdown",
   "metadata": {
    "id": "T9f0RSeUJLP1"
   },
   "source": [
    "*Problem Statement:*\n",
    "\n",
    "    Implement anomaly detection for given credit card dataset using Autoencoder and build the model by using the following steps:\n",
    "    a.\tImport required libraries\n",
    "    b.\tUpload / access the dataset\n",
    "    c.\tEncoder converts it into latent representation\n",
    "    d.\tDecoder networks convert it back to the original input\n",
    "    e.\tCompile the models with Optimizer, Loss, and Evaluation Metrics\n"
   ]
  },
  {
   "cell_type": "markdown",
   "metadata": {
    "id": "iEl3ncgPc0sv"
   },
   "source": [
    "\n",
    "#Credit Card Fraud Detection\n",
    "\n",
    "Example of outlier detection with autoencoders. Dataset https://www.kaggle.com/mlg-ulb/creditcardfraud from Machine Learning Group (http://mlg.ulb.ac.be) of ULB (Université Libre de Bruxelles).\n",
    "\n",
    "It is a highly unbalanced dataset with a very low percetnage of fraudulent credit card transactions. Our purpose is to build a classifier for detecting fraudulent transactions. In this example we will consider them as outliers an will use an autoencoder for detecting them.\n",
    "\n",
    "##Downloading of dataset\n"
   ]
  },
  {
   "cell_type": "code",
   "execution_count": 5,
   "metadata": {
    "colab": {
     "base_uri": "https://localhost:8080/",
     "height": 478
    },
    "id": "gT2psZNVvB9U",
    "outputId": "2a781f3d-7b0e-4940-e228-0e87063f5f61"
   },
   "outputs": [],
   "source": [
    "#!wget -O creditfraud.zip https://www.dropbox.com/s/tl20yp9bcl56oxt/creditcardfraud.zip?dl=0"
   ]
  },
  {
   "cell_type": "code",
   "execution_count": 6,
   "metadata": {
    "colab": {
     "base_uri": "https://localhost:8080/",
     "height": 72
    },
    "id": "1xqM1qxSvD_b",
    "outputId": "fd7ee9ea-45fe-4541-f214-ef496b71bc9f"
   },
   "outputs": [],
   "source": [
    "#!unzip creditfraud.zip"
   ]
  },
  {
   "cell_type": "markdown",
   "metadata": {
    "id": "3OV8v985dDi6"
   },
   "source": [
    "##Loading libraries"
   ]
  },
  {
   "cell_type": "code",
   "execution_count": 7,
   "metadata": {
    "colab": {
     "base_uri": "https://localhost:8080/",
     "height": 83
    },
    "id": "C-vN7SvXvMs5",
    "outputId": "d0c3b824-37dc-41ee-f53f-33d3aed20442"
   },
   "outputs": [],
   "source": [
    "import pandas as pd\n",
    "import numpy as np\n",
    "import seaborn as sns\n",
    "import matplotlib.pyplot as plt \n",
    "import matplotlib.ticker as ticker\n",
    "from sklearn.model_selection import train_test_split\n",
    "from sklearn.linear_model import LogisticRegression\n",
    "from sklearn import metrics\n",
    "from sklearn.preprocessing import StandardScaler\n",
    "from keras.models import Model, load_model\n",
    "from keras.layers import Input, Dense"
   ]
  },
  {
   "cell_type": "markdown",
   "metadata": {
    "id": "Fp9PNETFd2G4"
   },
   "source": [
    "##Loading dataset in Python and taking a first look"
   ]
  },
  {
   "cell_type": "code",
   "execution_count": 8,
   "metadata": {
    "colab": {
     "base_uri": "https://localhost:8080/",
     "height": 226
    },
    "id": "NMVr2-hzvlID",
    "outputId": "c5d8f7c4-825b-40fd-cbb7-edc9a05804c4"
   },
   "outputs": [
    {
     "data": {
      "text/html": [
       "<div>\n",
       "<style scoped>\n",
       "    .dataframe tbody tr th:only-of-type {\n",
       "        vertical-align: middle;\n",
       "    }\n",
       "\n",
       "    .dataframe tbody tr th {\n",
       "        vertical-align: top;\n",
       "    }\n",
       "\n",
       "    .dataframe thead th {\n",
       "        text-align: right;\n",
       "    }\n",
       "</style>\n",
       "<table border=\"1\" class=\"dataframe\">\n",
       "  <thead>\n",
       "    <tr style=\"text-align: right;\">\n",
       "      <th></th>\n",
       "      <th>Time</th>\n",
       "      <th>V1</th>\n",
       "      <th>V2</th>\n",
       "      <th>V3</th>\n",
       "      <th>V4</th>\n",
       "      <th>V5</th>\n",
       "      <th>V6</th>\n",
       "      <th>V7</th>\n",
       "      <th>V8</th>\n",
       "      <th>V9</th>\n",
       "      <th>...</th>\n",
       "      <th>V21</th>\n",
       "      <th>V22</th>\n",
       "      <th>V23</th>\n",
       "      <th>V24</th>\n",
       "      <th>V25</th>\n",
       "      <th>V26</th>\n",
       "      <th>V27</th>\n",
       "      <th>V28</th>\n",
       "      <th>Amount</th>\n",
       "      <th>Class</th>\n",
       "    </tr>\n",
       "  </thead>\n",
       "  <tbody>\n",
       "    <tr>\n",
       "      <th>0</th>\n",
       "      <td>0.0</td>\n",
       "      <td>-1.359807</td>\n",
       "      <td>-0.072781</td>\n",
       "      <td>2.536347</td>\n",
       "      <td>1.378155</td>\n",
       "      <td>-0.338321</td>\n",
       "      <td>0.462388</td>\n",
       "      <td>0.239599</td>\n",
       "      <td>0.098698</td>\n",
       "      <td>0.363787</td>\n",
       "      <td>...</td>\n",
       "      <td>-0.018307</td>\n",
       "      <td>0.277838</td>\n",
       "      <td>-0.110474</td>\n",
       "      <td>0.066928</td>\n",
       "      <td>0.128539</td>\n",
       "      <td>-0.189115</td>\n",
       "      <td>0.133558</td>\n",
       "      <td>-0.021053</td>\n",
       "      <td>149.62</td>\n",
       "      <td>0</td>\n",
       "    </tr>\n",
       "    <tr>\n",
       "      <th>1</th>\n",
       "      <td>0.0</td>\n",
       "      <td>1.191857</td>\n",
       "      <td>0.266151</td>\n",
       "      <td>0.166480</td>\n",
       "      <td>0.448154</td>\n",
       "      <td>0.060018</td>\n",
       "      <td>-0.082361</td>\n",
       "      <td>-0.078803</td>\n",
       "      <td>0.085102</td>\n",
       "      <td>-0.255425</td>\n",
       "      <td>...</td>\n",
       "      <td>-0.225775</td>\n",
       "      <td>-0.638672</td>\n",
       "      <td>0.101288</td>\n",
       "      <td>-0.339846</td>\n",
       "      <td>0.167170</td>\n",
       "      <td>0.125895</td>\n",
       "      <td>-0.008983</td>\n",
       "      <td>0.014724</td>\n",
       "      <td>2.69</td>\n",
       "      <td>0</td>\n",
       "    </tr>\n",
       "    <tr>\n",
       "      <th>2</th>\n",
       "      <td>1.0</td>\n",
       "      <td>-1.358354</td>\n",
       "      <td>-1.340163</td>\n",
       "      <td>1.773209</td>\n",
       "      <td>0.379780</td>\n",
       "      <td>-0.503198</td>\n",
       "      <td>1.800499</td>\n",
       "      <td>0.791461</td>\n",
       "      <td>0.247676</td>\n",
       "      <td>-1.514654</td>\n",
       "      <td>...</td>\n",
       "      <td>0.247998</td>\n",
       "      <td>0.771679</td>\n",
       "      <td>0.909412</td>\n",
       "      <td>-0.689281</td>\n",
       "      <td>-0.327642</td>\n",
       "      <td>-0.139097</td>\n",
       "      <td>-0.055353</td>\n",
       "      <td>-0.059752</td>\n",
       "      <td>378.66</td>\n",
       "      <td>0</td>\n",
       "    </tr>\n",
       "    <tr>\n",
       "      <th>3</th>\n",
       "      <td>1.0</td>\n",
       "      <td>-0.966272</td>\n",
       "      <td>-0.185226</td>\n",
       "      <td>1.792993</td>\n",
       "      <td>-0.863291</td>\n",
       "      <td>-0.010309</td>\n",
       "      <td>1.247203</td>\n",
       "      <td>0.237609</td>\n",
       "      <td>0.377436</td>\n",
       "      <td>-1.387024</td>\n",
       "      <td>...</td>\n",
       "      <td>-0.108300</td>\n",
       "      <td>0.005274</td>\n",
       "      <td>-0.190321</td>\n",
       "      <td>-1.175575</td>\n",
       "      <td>0.647376</td>\n",
       "      <td>-0.221929</td>\n",
       "      <td>0.062723</td>\n",
       "      <td>0.061458</td>\n",
       "      <td>123.50</td>\n",
       "      <td>0</td>\n",
       "    </tr>\n",
       "    <tr>\n",
       "      <th>4</th>\n",
       "      <td>2.0</td>\n",
       "      <td>-1.158233</td>\n",
       "      <td>0.877737</td>\n",
       "      <td>1.548718</td>\n",
       "      <td>0.403034</td>\n",
       "      <td>-0.407193</td>\n",
       "      <td>0.095921</td>\n",
       "      <td>0.592941</td>\n",
       "      <td>-0.270533</td>\n",
       "      <td>0.817739</td>\n",
       "      <td>...</td>\n",
       "      <td>-0.009431</td>\n",
       "      <td>0.798278</td>\n",
       "      <td>-0.137458</td>\n",
       "      <td>0.141267</td>\n",
       "      <td>-0.206010</td>\n",
       "      <td>0.502292</td>\n",
       "      <td>0.219422</td>\n",
       "      <td>0.215153</td>\n",
       "      <td>69.99</td>\n",
       "      <td>0</td>\n",
       "    </tr>\n",
       "  </tbody>\n",
       "</table>\n",
       "<p>5 rows × 31 columns</p>\n",
       "</div>"
      ],
      "text/plain": [
       "   Time        V1        V2        V3        V4        V5        V6        V7  \\\n",
       "0   0.0 -1.359807 -0.072781  2.536347  1.378155 -0.338321  0.462388  0.239599   \n",
       "1   0.0  1.191857  0.266151  0.166480  0.448154  0.060018 -0.082361 -0.078803   \n",
       "2   1.0 -1.358354 -1.340163  1.773209  0.379780 -0.503198  1.800499  0.791461   \n",
       "3   1.0 -0.966272 -0.185226  1.792993 -0.863291 -0.010309  1.247203  0.237609   \n",
       "4   2.0 -1.158233  0.877737  1.548718  0.403034 -0.407193  0.095921  0.592941   \n",
       "\n",
       "         V8        V9  ...       V21       V22       V23       V24       V25  \\\n",
       "0  0.098698  0.363787  ... -0.018307  0.277838 -0.110474  0.066928  0.128539   \n",
       "1  0.085102 -0.255425  ... -0.225775 -0.638672  0.101288 -0.339846  0.167170   \n",
       "2  0.247676 -1.514654  ...  0.247998  0.771679  0.909412 -0.689281 -0.327642   \n",
       "3  0.377436 -1.387024  ... -0.108300  0.005274 -0.190321 -1.175575  0.647376   \n",
       "4 -0.270533  0.817739  ... -0.009431  0.798278 -0.137458  0.141267 -0.206010   \n",
       "\n",
       "        V26       V27       V28  Amount  Class  \n",
       "0 -0.189115  0.133558 -0.021053  149.62      0  \n",
       "1  0.125895 -0.008983  0.014724    2.69      0  \n",
       "2 -0.139097 -0.055353 -0.059752  378.66      0  \n",
       "3 -0.221929  0.062723  0.061458  123.50      0  \n",
       "4  0.502292  0.219422  0.215153   69.99      0  \n",
       "\n",
       "[5 rows x 31 columns]"
      ]
     },
     "execution_count": 8,
     "metadata": {},
     "output_type": "execute_result"
    }
   ],
   "source": [
    "dat=pd.read_csv('E:\\pict\\sem7\\lp4\\datasets\\creditcard.csv')\n",
    "dat.head()"
   ]
  },
  {
   "cell_type": "markdown",
   "metadata": {
    "id": "5Y0a-xNMeDEA"
   },
   "source": [
    "The dataset is highly unbalanced with very few fraudulent credit cards"
   ]
  },
  {
   "cell_type": "code",
   "execution_count": 9,
   "metadata": {
    "colab": {
     "base_uri": "https://localhost:8080/",
     "height": 72
    },
    "id": "l3TwIbGCvmz9",
    "outputId": "1846477b-f926-4228-abe7-50146d09f04d"
   },
   "outputs": [
    {
     "data": {
      "text/plain": [
       "0    0.998273\n",
       "1    0.001727\n",
       "Name: Class, dtype: float64"
      ]
     },
     "execution_count": 9,
     "metadata": {},
     "output_type": "execute_result"
    }
   ],
   "source": [
    "dat['Class'].value_counts()/dat['Class'].count()"
   ]
  },
  {
   "cell_type": "code",
   "execution_count": 10,
   "metadata": {
    "colab": {
     "base_uri": "https://localhost:8080/",
     "height": 297
    },
    "id": "L4KRErdPvt1A",
    "outputId": "95e08e75-11e6-47f8-c377-4d3e7895728d"
   },
   "outputs": [
    {
     "data": {
      "text/plain": [
       "<AxesSubplot:xlabel='Class', ylabel='count'>"
      ]
     },
     "execution_count": 10,
     "metadata": {},
     "output_type": "execute_result"
    },
    {
     "data": {
      "image/png": "[encoded data removed]",
      "text/plain": [
       "<Figure size 432x288 with 1 Axes>"
      ]
     },
     "metadata": {
      "needs_background": "light"
     },
     "output_type": "display_data"
    }
   ],
   "source": [
    "sns.countplot(x='Class',data=dat)"
   ]
  },
  {
   "cell_type": "code",
   "execution_count": 11,
   "metadata": {
    "id": "wDJt4sXDvxzb"
   },
   "outputs": [],
   "source": [
    "dat = dat.drop([ 'Time'], 1)\n",
    "dat['Amount'] = StandardScaler().fit_transform(dat['Amount'].values.reshape(-1, 1))"
   ]
  },
  {
   "cell_type": "markdown",
   "metadata": {
    "id": "2vTh-X3beLk_"
   },
   "source": [
    "Splitting into train and test datasets"
   ]
  },
  {
   "cell_type": "code",
   "execution_count": 12,
   "metadata": {
    "id": "1T3X-3wFv001"
   },
   "outputs": [],
   "source": [
    "X_train, X_test, y_train, y_test = train_test_split(dat.drop('Class',1) , dat['Class'], test_size=0.5, random_state=0)"
   ]
  },
  {
   "cell_type": "code",
   "execution_count": 13,
   "metadata": {
    "colab": {
     "base_uri": "https://localhost:8080/",
     "height": 72
    },
    "id": "ooXM9UEwv3QX",
    "outputId": "0de04af5-f7fc-4d25-a8ed-1b349703a8ef"
   },
   "outputs": [
    {
     "data": {
      "text/plain": [
       "0    0.998294\n",
       "1    0.001706\n",
       "Name: Class, dtype: float64"
      ]
     },
     "execution_count": 13,
     "metadata": {},
     "output_type": "execute_result"
    }
   ],
   "source": [
    "y_test.value_counts()/y_test.count()"
   ]
  },
  {
   "cell_type": "code",
   "execution_count": 14,
   "metadata": {
    "colab": {
     "base_uri": "https://localhost:8080/",
     "height": 72
    },
    "id": "K3YUftDjv5z-",
    "outputId": "247b9428-51e2-4c19-b3ac-398955f36455"
   },
   "outputs": [
    {
     "data": {
      "text/plain": [
       "0    0.998251\n",
       "1    0.001749\n",
       "Name: Class, dtype: float64"
      ]
     },
     "execution_count": 14,
     "metadata": {},
     "output_type": "execute_result"
    }
   ],
   "source": [
    "y_train.value_counts()/y_train.count()"
   ]
  },
  {
   "cell_type": "markdown",
   "metadata": {
    "id": "otvOl-HcevoG"
   },
   "source": [
    "##First method: using autoencoder's regression error"
   ]
  },
  {
   "cell_type": "markdown",
   "metadata": {
    "id": "xPpRAl0TeQR8"
   },
   "source": [
    "For our first example we will train our autoencoder only on non fraudulent cases"
   ]
  },
  {
   "cell_type": "code",
   "execution_count": 15,
   "metadata": {
    "id": "mMzBdaAdv7rE"
   },
   "outputs": [],
   "source": [
    "X_train_normal = X_train[y_train==0]\n",
    "X_train_fraud = X_train[y_train==1]"
   ]
  },
  {
   "cell_type": "markdown",
   "metadata": {
    "id": "CbX1U5aheSla"
   },
   "source": [
    "Building an autoencoder with\n",
    "- an input layer with 29 neurons,\n",
    "- a hidden layer with 12 neurons,\n",
    "- an output layer with 29 neurons"
   ]
  },
  {
   "cell_type": "code",
   "execution_count": 16,
   "metadata": {
    "colab": {
     "base_uri": "https://localhost:8080/",
     "height": 147
    },
    "id": "euBPgiamw2R6",
    "outputId": "afd64cdc-dcf4-4595-9496-cc3b0d89fa0d"
   },
   "outputs": [],
   "source": [
    "input_layer = Input(shape=(29, ))\n",
    "encoded = Dense(12,activation='tanh')(input_layer)\n",
    "decoded = Dense(29,activation='sigmoid')(encoded)\n",
    "autoencoder = Model(input_layer,decoded)"
   ]
  },
  {
   "cell_type": "code",
   "execution_count": 17,
   "metadata": {
    "colab": {
     "base_uri": "https://localhost:8080/",
     "height": 54
    },
    "id": "fY42GWDWyoxL",
    "outputId": "ba09f0c7-e251-47c0-a269-f4af57513e33"
   },
   "outputs": [],
   "source": [
    "autoencoder.compile(optimizer='adam',loss='mean_squared_error')"
   ]
  },
  {
   "cell_type": "code",
   "execution_count": 20,
   "metadata": {
    "colab": {
     "base_uri": "https://localhost:8080/",
     "height": 1000
    },
    "id": "ZC2j3eXJxM-B",
    "outputId": "87fb0776-1173-4a98-cd16-dd8da40fae7a"
   },
   "outputs": [
    {
     "name": "stdout",
     "output_type": "stream",
     "text": [
      "Epoch 1/100\n",
      "1111/1111 [==============================] - 11s 10ms/step - loss: 0.8238 - val_loss: 0.8166\n",
      "Epoch 2/100\n",
      "1111/1111 [==============================] - 10s 9ms/step - loss: 0.8115 - val_loss: 0.8067\n",
      "Epoch 3/100\n",
      "1111/1111 [==============================] - 14s 13ms/step - loss: 0.8031 - val_loss: 0.7997\n",
      "Epoch 4/100\n",
      "1111/1111 [==============================] - 15s 13ms/step - loss: 0.7971 - val_loss: 0.7944\n",
      "Epoch 5/100\n",
      "1111/1111 [==============================] - 16s 14ms/step - loss: 0.7924 - val_loss: 0.7904\n",
      "Epoch 6/100\n",
      "1111/1111 [==============================] - 15s 13ms/step - loss: 0.7889 - val_loss: 0.7874\n",
      "Epoch 7/100\n",
      "1111/1111 [==============================] - 16s 14ms/step - loss: 0.7862 - val_loss: 0.7850\n",
      "Epoch 8/100\n",
      "1111/1111 [==============================] - 15s 14ms/step - loss: 0.7842 - val_loss: 0.7833\n",
      "Epoch 9/100\n",
      "1111/1111 [==============================] - 16s 14ms/step - loss: 0.7825 - val_loss: 0.7816\n",
      "Epoch 10/100\n",
      "1111/1111 [==============================] - 16s 14ms/step - loss: 0.7810 - val_loss: 0.7802\n",
      "Epoch 11/100\n",
      "1111/1111 [==============================] - 15s 14ms/step - loss: 0.7795 - val_loss: 0.7787\n",
      "Epoch 12/100\n",
      "1111/1111 [==============================] - 14s 12ms/step - loss: 0.7780 - val_loss: 0.7773\n",
      "Epoch 13/100\n",
      "1111/1111 [==============================] - 15s 13ms/step - loss: 0.7768 - val_loss: 0.7762\n",
      "Epoch 14/100\n",
      "1111/1111 [==============================] - 11s 10ms/step - loss: 0.7758 - val_loss: 0.7752\n",
      "Epoch 15/100\n",
      "1111/1111 [==============================] - 16s 14ms/step - loss: 0.7749 - val_loss: 0.7747\n",
      "Epoch 16/100\n",
      "1111/1111 [==============================] - 11s 10ms/step - loss: 0.7741 - val_loss: 0.7737\n",
      "Epoch 17/100\n",
      "1111/1111 [==============================] - 10s 9ms/step - loss: 0.7735 - val_loss: 0.7733\n",
      "Epoch 18/100\n",
      "1111/1111 [==============================] - 10s 9ms/step - loss: 0.7731 - val_loss: 0.7727\n",
      "Epoch 19/100\n",
      "1111/1111 [==============================] - 10s 9ms/step - loss: 0.7727 - val_loss: 0.7727\n",
      "Epoch 20/100\n",
      "1111/1111 [==============================] - 9s 8ms/step - loss: 0.7723 - val_loss: 0.7720\n",
      "Epoch 21/100\n",
      "1111/1111 [==============================] - 8s 7ms/step - loss: 0.7719 - val_loss: 0.7718\n",
      "Epoch 22/100\n",
      "1111/1111 [==============================] - 9s 8ms/step - loss: 0.7716 - val_loss: 0.7713\n",
      "Epoch 23/100\n",
      "1111/1111 [==============================] - 11s 10ms/step - loss: 0.7714 - val_loss: 0.7712\n",
      "Epoch 24/100\n",
      "1111/1111 [==============================] - 13s 11ms/step - loss: 0.7711 - val_loss: 0.7711\n",
      "Epoch 25/100\n",
      "1111/1111 [==============================] - 15s 14ms/step - loss: 0.7710 - val_loss: 0.7708\n",
      "Epoch 26/100\n",
      "1111/1111 [==============================] - 14s 12ms/step - loss: 0.7707 - val_loss: 0.7707\n",
      "Epoch 27/100\n",
      "1111/1111 [==============================] - 9s 8ms/step - loss: 0.7705 - val_loss: 0.7704\n",
      "Epoch 28/100\n",
      "1111/1111 [==============================] - 9s 8ms/step - loss: 0.7704 - val_loss: 0.7704\n",
      "Epoch 29/100\n",
      "1111/1111 [==============================] - 20s 18ms/step - loss: 0.7702 - val_loss: 0.7700\n",
      "Epoch 30/100\n",
      "1111/1111 [==============================] - 20s 18ms/step - loss: 0.7701 - val_loss: 0.7698\n",
      "Epoch 31/100\n",
      "1111/1111 [==============================] - 20s 18ms/step - loss: 0.7699 - val_loss: 0.7697\n",
      "Epoch 32/100\n",
      "1111/1111 [==============================] - 20s 18ms/step - loss: 0.7698 - val_loss: 0.7696\n",
      "Epoch 33/100\n",
      "1111/1111 [==============================] - 18s 16ms/step - loss: 0.7697 - val_loss: 0.7695\n",
      "Epoch 34/100\n",
      "1111/1111 [==============================] - 19s 17ms/step - loss: 0.7696 - val_loss: 0.7694\n",
      "Epoch 35/100\n",
      "1111/1111 [==============================] - 18s 17ms/step - loss: 0.7694 - val_loss: 0.7694\n",
      "Epoch 36/100\n",
      "1111/1111 [==============================] - 19s 17ms/step - loss: 0.7693 - val_loss: 0.7694\n",
      "Epoch 37/100\n",
      "1111/1111 [==============================] - 19s 17ms/step - loss: 0.7692 - val_loss: 0.7690\n",
      "Epoch 38/100\n",
      "1111/1111 [==============================] - 19s 17ms/step - loss: 0.7691 - val_loss: 0.7693\n",
      "Epoch 39/100\n",
      "1111/1111 [==============================] - 20s 18ms/step - loss: 0.7690 - val_loss: 0.7688\n",
      "Epoch 40/100\n",
      "1111/1111 [==============================] - 20s 18ms/step - loss: 0.7689 - val_loss: 0.7688\n",
      "Epoch 41/100\n",
      "1111/1111 [==============================] - 18s 16ms/step - loss: 0.7688 - val_loss: 0.7689\n",
      "Epoch 42/100\n",
      "1111/1111 [==============================] - 11s 10ms/step - loss: 0.7688 - val_loss: 0.7687\n",
      "Epoch 43/100\n",
      "1111/1111 [==============================] - 9s 8ms/step - loss: 0.7686 - val_loss: 0.7686\n",
      "Epoch 44/100\n",
      "1111/1111 [==============================] - 9s 8ms/step - loss: 0.7686 - val_loss: 0.7685\n",
      "Epoch 45/100\n",
      "1111/1111 [==============================] - 8s 7ms/step - loss: 0.7685 - val_loss: 0.7683\n",
      "Epoch 46/100\n",
      "1111/1111 [==============================] - 9s 8ms/step - loss: 0.7684 - val_loss: 0.7686\n",
      "Epoch 47/100\n",
      "1111/1111 [==============================] - 21s 19ms/step - loss: 0.7684 - val_loss: 0.7683\n",
      "Epoch 48/100\n",
      "1111/1111 [==============================] - 17s 15ms/step - loss: 0.7683 - val_loss: 0.7682\n",
      "Epoch 49/100\n",
      "1111/1111 [==============================] - 20s 18ms/step - loss: 0.7682 - val_loss: 0.7681\n",
      "Epoch 50/100\n",
      "1111/1111 [==============================] - 19s 17ms/step - loss: 0.7681 - val_loss: 0.7680\n",
      "Epoch 51/100\n",
      "1111/1111 [==============================] - 18s 16ms/step - loss: 0.7681 - val_loss: 0.7681\n",
      "Epoch 52/100\n",
      "1111/1111 [==============================] - 18s 16ms/step - loss: 0.7680 - val_loss: 0.7680\n",
      "Epoch 53/100\n",
      "1111/1111 [==============================] - 18s 16ms/step - loss: 0.7680 - val_loss: 0.7679\n",
      "Epoch 54/100\n",
      "1111/1111 [==============================] - 15s 13ms/step - loss: 0.7680 - val_loss: 0.7679\n",
      "Epoch 55/100\n",
      "1111/1111 [==============================] - 18s 16ms/step - loss: 0.7679 - val_loss: 0.7679\n",
      "Epoch 56/100\n",
      "1111/1111 [==============================] - 17s 15ms/step - loss: 0.7678 - val_loss: 0.7677\n",
      "Epoch 57/100\n",
      "1111/1111 [==============================] - 16s 15ms/step - loss: 0.7677 - val_loss: 0.7677\n",
      "Epoch 58/100\n",
      "1111/1111 [==============================] - 14s 12ms/step - loss: 0.7677 - val_loss: 0.7678\n",
      "Epoch 59/100\n",
      "1111/1111 [==============================] - 26s 23ms/step - loss: 0.7677 - val_loss: 0.7676\n",
      "Epoch 60/100\n",
      "1111/1111 [==============================] - 15s 14ms/step - loss: 0.7676 - val_loss: 0.7674\n",
      "Epoch 61/100\n",
      "1111/1111 [==============================] - 27s 25ms/step - loss: 0.7676 - val_loss: 0.7674\n",
      "Epoch 62/100\n",
      "1111/1111 [==============================] - 28s 25ms/step - loss: 0.7676 - val_loss: 0.7676\n",
      "Epoch 63/100\n",
      "1111/1111 [==============================] - 29s 26ms/step - loss: 0.7675 - val_loss: 0.7675\n",
      "Epoch 64/100\n",
      "1111/1111 [==============================] - 30s 27ms/step - loss: 0.7675 - val_loss: 0.7673\n",
      "Epoch 65/100\n",
      "1111/1111 [==============================] - 30s 27ms/step - loss: 0.7674 - val_loss: 0.7673\n",
      "Epoch 66/100\n",
      "1111/1111 [==============================] - 28s 26ms/step - loss: 0.7673 - val_loss: 0.7675\n",
      "Epoch 67/100\n",
      "1111/1111 [==============================] - 29s 26ms/step - loss: 0.7673 - val_loss: 0.7673\n",
      "Epoch 68/100\n",
      "1111/1111 [==============================] - 27s 25ms/step - loss: 0.7674 - val_loss: 0.7671\n",
      "Epoch 69/100\n",
      "1111/1111 [==============================] - 18s 16ms/step - loss: 0.7672 - val_loss: 0.7675\n",
      "Epoch 70/100\n",
      "1111/1111 [==============================] - 18s 16ms/step - loss: 0.7673 - val_loss: 0.7671\n",
      "Epoch 71/100\n",
      "1111/1111 [==============================] - 19s 17ms/step - loss: 0.7672 - val_loss: 0.7672\n",
      "Epoch 72/100\n",
      "1111/1111 [==============================] - 9s 8ms/step - loss: 0.7672 - val_loss: 0.7672\n",
      "Epoch 73/100\n",
      "1111/1111 [==============================] - 17s 15ms/step - loss: 0.7671 - val_loss: 0.7674\n",
      "Epoch 74/100\n",
      "1111/1111 [==============================] - 18s 16ms/step - loss: 0.7671 - val_loss: 0.7671\n",
      "Epoch 75/100\n",
      "1111/1111 [==============================] - 19s 17ms/step - loss: 0.7671 - val_loss: 0.7670\n",
      "Epoch 76/100\n",
      "1111/1111 [==============================] - 18s 16ms/step - loss: 0.7670 - val_loss: 0.7670\n",
      "Epoch 77/100\n",
      "1111/1111 [==============================] - 17s 16ms/step - loss: 0.7670 - val_loss: 0.7670\n",
      "Epoch 78/100\n"
     ]
    },
    {
     "name": "stdout",
     "output_type": "stream",
     "text": [
      "1111/1111 [==============================] - 21s 19ms/step - loss: 0.7670 - val_loss: 0.7668\n",
      "Epoch 79/100\n",
      "1111/1111 [==============================] - 22s 20ms/step - loss: 0.7669 - val_loss: 0.7669\n",
      "Epoch 80/100\n",
      "1111/1111 [==============================] - 21s 19ms/step - loss: 0.7670 - val_loss: 0.7668\n",
      "Epoch 81/100\n",
      "1111/1111 [==============================] - 20s 18ms/step - loss: 0.7669 - val_loss: 0.7667\n",
      "Epoch 82/100\n",
      "1111/1111 [==============================] - 20s 18ms/step - loss: 0.7668 - val_loss: 0.7669\n",
      "Epoch 83/100\n",
      "1111/1111 [==============================] - 20s 18ms/step - loss: 0.7669 - val_loss: 0.7667\n",
      "Epoch 84/100\n",
      "1111/1111 [==============================] - 22s 20ms/step - loss: 0.7668 - val_loss: 0.7667\n",
      "Epoch 85/100\n",
      "1111/1111 [==============================] - 21s 19ms/step - loss: 0.7668 - val_loss: 0.7669\n",
      "Epoch 86/100\n",
      "1111/1111 [==============================] - 21s 19ms/step - loss: 0.7668 - val_loss: 0.7667\n",
      "Epoch 87/100\n",
      "1111/1111 [==============================] - 20s 18ms/step - loss: 0.7667 - val_loss: 0.7666\n",
      "Epoch 88/100\n",
      "1111/1111 [==============================] - 15s 14ms/step - loss: 0.7668 - val_loss: 0.7667\n",
      "Epoch 89/100\n",
      "1111/1111 [==============================] - 19s 17ms/step - loss: 0.7667 - val_loss: 0.7666\n",
      "Epoch 90/100\n",
      "1111/1111 [==============================] - 19s 17ms/step - loss: 0.7667 - val_loss: 0.7665\n",
      "Epoch 91/100\n",
      "1111/1111 [==============================] - 17s 15ms/step - loss: 0.7667 - val_loss: 0.7666\n",
      "Epoch 92/100\n",
      "1111/1111 [==============================] - 18s 16ms/step - loss: 0.7666 - val_loss: 0.7665\n",
      "Epoch 93/100\n",
      "1111/1111 [==============================] - 19s 17ms/step - loss: 0.7667 - val_loss: 0.7666\n",
      "Epoch 94/100\n",
      "1111/1111 [==============================] - 21s 19ms/step - loss: 0.7666 - val_loss: 0.7668\n",
      "Epoch 95/100\n",
      "1111/1111 [==============================] - 22s 19ms/step - loss: 0.7666 - val_loss: 0.7665\n",
      "Epoch 96/100\n",
      "1111/1111 [==============================] - 19s 17ms/step - loss: 0.7666 - val_loss: 0.7666\n",
      "Epoch 97/100\n",
      "1111/1111 [==============================] - 21s 19ms/step - loss: 0.7666 - val_loss: 0.7664\n",
      "Epoch 98/100\n",
      "1111/1111 [==============================] - 18s 16ms/step - loss: 0.7666 - val_loss: 0.7666\n",
      "Epoch 99/100\n",
      "1111/1111 [==============================] - 21s 19ms/step - loss: 0.7664 - val_loss: 0.7664\n",
      "Epoch 100/100\n",
      "1111/1111 [==============================] - 21s 19ms/step - loss: 0.7664 - val_loss: 0.7666\n"
     ]
    },
    {
     "data": {
      "text/plain": [
       "<keras.callbacks.History at 0x50be10bac0>"
      ]
     },
     "execution_count": 20,
     "metadata": {},
     "output_type": "execute_result"
    }
   ],
   "source": [
    "autoencoder.fit(X_train_normal, X_train_normal, epochs = 100, batch_size=128,\n",
    "validation_data=(X_train_normal,X_train_normal))"
   ]
  },
  {
   "cell_type": "code",
   "execution_count": 21,
   "metadata": {
    "colab": {
     "base_uri": "https://localhost:8080/",
     "height": 175
    },
    "id": "qzcu7y3nxsw3",
    "outputId": "d1f73fe7-8c35-402d-9123-c63bf2d2a8f7"
   },
   "outputs": [
    {
     "name": "stdout",
     "output_type": "stream",
     "text": [
      "4451/4451 [==============================] - 28s 6ms/step\n"
     ]
    },
    {
     "data": {
      "text/html": [
       "<div>\n",
       "<style scoped>\n",
       "    .dataframe tbody tr th:only-of-type {\n",
       "        vertical-align: middle;\n",
       "    }\n",
       "\n",
       "    .dataframe tbody tr th {\n",
       "        vertical-align: top;\n",
       "    }\n",
       "\n",
       "    .dataframe thead tr th {\n",
       "        text-align: left;\n",
       "    }\n",
       "\n",
       "    .dataframe thead tr:last-of-type th {\n",
       "        text-align: right;\n",
       "    }\n",
       "</style>\n",
       "<table border=\"1\" class=\"dataframe\">\n",
       "  <thead>\n",
       "    <tr>\n",
       "      <th></th>\n",
       "      <th colspan=\"8\" halign=\"left\">reconstruction_error</th>\n",
       "    </tr>\n",
       "    <tr>\n",
       "      <th></th>\n",
       "      <th>count</th>\n",
       "      <th>mean</th>\n",
       "      <th>std</th>\n",
       "      <th>min</th>\n",
       "      <th>25%</th>\n",
       "      <th>50%</th>\n",
       "      <th>75%</th>\n",
       "      <th>max</th>\n",
       "    </tr>\n",
       "    <tr>\n",
       "      <th>true_class</th>\n",
       "      <th></th>\n",
       "      <th></th>\n",
       "      <th></th>\n",
       "      <th></th>\n",
       "      <th></th>\n",
       "      <th></th>\n",
       "      <th></th>\n",
       "      <th></th>\n",
       "    </tr>\n",
       "  </thead>\n",
       "  <tbody>\n",
       "    <tr>\n",
       "      <th>0</th>\n",
       "      <td>142154.0</td>\n",
       "      <td>0.766624</td>\n",
       "      <td>3.452137</td>\n",
       "      <td>0.036334</td>\n",
       "      <td>0.226929</td>\n",
       "      <td>0.389378</td>\n",
       "      <td>0.643959</td>\n",
       "      <td>319.575647</td>\n",
       "    </tr>\n",
       "    <tr>\n",
       "      <th>1</th>\n",
       "      <td>249.0</td>\n",
       "      <td>30.130602</td>\n",
       "      <td>43.295584</td>\n",
       "      <td>0.114217</td>\n",
       "      <td>4.172876</td>\n",
       "      <td>10.612298</td>\n",
       "      <td>27.190596</td>\n",
       "      <td>280.467545</td>\n",
       "    </tr>\n",
       "  </tbody>\n",
       "</table>\n",
       "</div>"
      ],
      "text/plain": [
       "           reconstruction_error                                            \\\n",
       "                          count       mean        std       min       25%   \n",
       "true_class                                                                  \n",
       "0                      142154.0   0.766624   3.452137  0.036334  0.226929   \n",
       "1                         249.0  30.130602  43.295584  0.114217  4.172876   \n",
       "\n",
       "                                              \n",
       "                  50%        75%         max  \n",
       "true_class                                    \n",
       "0            0.389378   0.643959  319.575647  \n",
       "1           10.612298  27.190596  280.467545  "
      ]
     },
     "execution_count": 21,
     "metadata": {},
     "output_type": "execute_result"
    }
   ],
   "source": [
    "predictions = autoencoder.predict(X_train)\n",
    "mse = np.mean(np.power(X_train - predictions, 2), axis=1)\n",
    "error_df = pd.DataFrame({'reconstruction_error': mse,\n",
    "                        'true_class': y_train})\n",
    "error_df.groupby('true_class').describe()"
   ]
  },
  {
   "cell_type": "markdown",
   "metadata": {
    "id": "rRQepwFre9UM"
   },
   "source": [
    "As we can see above the error for non fraudulent case is lower than the error for fraudulent cases. We use a threshold of mean plus 3 sds to classify the test set."
   ]
  },
  {
   "cell_type": "code",
   "execution_count": 22,
   "metadata": {
    "id": "-zAII8DQxw-B"
   },
   "outputs": [
    {
     "name": "stdout",
     "output_type": "stream",
     "text": [
      "4451/4451 [==============================] - 15s 3ms/step\n"
     ]
    }
   ],
   "source": [
    "test_predictions=autoencoder.predict(X_test)\n",
    "mse = np.mean(np.power(X_test - test_predictions, 2), axis=1)\n",
    "y_pred=[(lambda er: 1 if er>=11.078922  else 0)(er) for er in mse]"
   ]
  },
  {
   "cell_type": "code",
   "execution_count": 23,
   "metadata": {
    "colab": {
     "base_uri": "https://localhost:8080/",
     "height": 295
    },
    "id": "mZ4V1lfb46jQ",
    "outputId": "ddd09775-e18f-411a-bf83-4204e1a7bfef"
   },
   "outputs": [
    {
     "data": {
      "image/png": "[encoded data removed]",
      "text/plain": [
       "<Figure size 432x288 with 2 Axes>"
      ]
     },
     "metadata": {
      "needs_background": "light"
     },
     "output_type": "display_data"
    }
   ],
   "source": [
    "conf_matrix = metrics.confusion_matrix(y_test,y_pred)\n",
    "\n",
    "ax=plt.subplot()\n",
    "sns.heatmap(conf_matrix,annot=True,ax=ax,fmt='g')#annot=True to annotate cells, fmt='g' numbers not scientific form\n",
    "ax.set_xlabel('Predicted labels'); ax.set_ylabel('True labels')\n",
    "ax.set_title('Confusion Matrix'); \n",
    "ax.xaxis.set_ticklabels(['Normal', 'Fraud']); ax.yaxis.set_ticklabels(['Normal', 'Fraud']);\n",
    "ax.set(yticks=[0, 2], \n",
    "       xticks=[0.5, 1.5])\n",
    "ax.yaxis.set_major_locator(ticker.IndexLocator(base=1, offset=0.5))"
   ]
  },
  {
   "cell_type": "markdown",
   "metadata": {
    "id": "Nh2xw3tcfng9"
   },
   "source": [
    "##Second method: using encoder part of autoencoder and k-NN\n",
    "\n",
    "We train using all cases (fraud/non-fraud)in train dataset and use the result to map the instances into a 12-dimensional space. The mapped cases are fed to k-NN for classification."
   ]
  },
  {
   "cell_type": "code",
   "execution_count": 24,
   "metadata": {
    "colab": {
     "base_uri": "https://localhost:8080/",
     "height": 1000
    },
    "id": "B7SnYf1KFVm9",
    "outputId": "dbeb5d25-878e-4684-d802-734557fff4b2"
   },
   "outputs": [
    {
     "name": "stdout",
     "output_type": "stream",
     "text": [
      "Epoch 1/100\n",
      "1113/1113 [==============================] - 24s 19ms/step - loss: 1.0524 - val_loss: 0.9414\n",
      "Epoch 2/100\n",
      " 542/1113 [=============>................] - ETA: 4s - loss: 0.9272"
     ]
    },
    {
     "ename": "KeyboardInterrupt",
     "evalue": "",
     "output_type": "error",
     "traceback": [
      "\u001b[1;31m---------------------------------------------------------------------------\u001b[0m",
      "\u001b[1;31mKeyboardInterrupt\u001b[0m                         Traceback (most recent call last)",
      "\u001b[1;32m<ipython-input-24-6ee72cd6de6b>\u001b[0m in \u001b[0;36m<module>\u001b[1;34m\u001b[0m\n\u001b[0;32m      4\u001b[0m \u001b[0mautoencoder_all\u001b[0m \u001b[1;33m=\u001b[0m \u001b[0mModel\u001b[0m\u001b[1;33m(\u001b[0m\u001b[0minput_layer_all\u001b[0m\u001b[1;33m,\u001b[0m\u001b[0mdecoded_all\u001b[0m\u001b[1;33m)\u001b[0m\u001b[1;33m\u001b[0m\u001b[1;33m\u001b[0m\u001b[0m\n\u001b[0;32m      5\u001b[0m \u001b[0mautoencoder_all\u001b[0m\u001b[1;33m.\u001b[0m\u001b[0mcompile\u001b[0m\u001b[1;33m(\u001b[0m\u001b[0moptimizer\u001b[0m\u001b[1;33m=\u001b[0m\u001b[1;34m'adam'\u001b[0m\u001b[1;33m,\u001b[0m\u001b[0mloss\u001b[0m\u001b[1;33m=\u001b[0m\u001b[1;34m'mean_squared_error'\u001b[0m\u001b[1;33m)\u001b[0m\u001b[1;33m\u001b[0m\u001b[1;33m\u001b[0m\u001b[0m\n\u001b[1;32m----> 6\u001b[1;33m autoencoder_all.fit(X_train, X_train, epochs = 100, batch_size=128,\n\u001b[0m\u001b[0;32m      7\u001b[0m validation_data=(X_train,X_train))\n",
      "\u001b[1;32m~\\anaconda3\\lib\\site-packages\\keras\\utils\\traceback_utils.py\u001b[0m in \u001b[0;36merror_handler\u001b[1;34m(*args, **kwargs)\u001b[0m\n\u001b[0;32m     63\u001b[0m         \u001b[0mfiltered_tb\u001b[0m \u001b[1;33m=\u001b[0m \u001b[1;32mNone\u001b[0m\u001b[1;33m\u001b[0m\u001b[1;33m\u001b[0m\u001b[0m\n\u001b[0;32m     64\u001b[0m         \u001b[1;32mtry\u001b[0m\u001b[1;33m:\u001b[0m\u001b[1;33m\u001b[0m\u001b[1;33m\u001b[0m\u001b[0m\n\u001b[1;32m---> 65\u001b[1;33m             \u001b[1;32mreturn\u001b[0m \u001b[0mfn\u001b[0m\u001b[1;33m(\u001b[0m\u001b[1;33m*\u001b[0m\u001b[0margs\u001b[0m\u001b[1;33m,\u001b[0m \u001b[1;33m**\u001b[0m\u001b[0mkwargs\u001b[0m\u001b[1;33m)\u001b[0m\u001b[1;33m\u001b[0m\u001b[1;33m\u001b[0m\u001b[0m\n\u001b[0m\u001b[0;32m     66\u001b[0m         \u001b[1;32mexcept\u001b[0m \u001b[0mException\u001b[0m \u001b[1;32mas\u001b[0m \u001b[0me\u001b[0m\u001b[1;33m:\u001b[0m\u001b[1;33m\u001b[0m\u001b[1;33m\u001b[0m\u001b[0m\n\u001b[0;32m     67\u001b[0m             \u001b[0mfiltered_tb\u001b[0m \u001b[1;33m=\u001b[0m \u001b[0m_process_traceback_frames\u001b[0m\u001b[1;33m(\u001b[0m\u001b[0me\u001b[0m\u001b[1;33m.\u001b[0m\u001b[0m__traceback__\u001b[0m\u001b[1;33m)\u001b[0m\u001b[1;33m\u001b[0m\u001b[1;33m\u001b[0m\u001b[0m\n",
      "\u001b[1;32m~\\anaconda3\\lib\\site-packages\\keras\\engine\\training.py\u001b[0m in \u001b[0;36mfit\u001b[1;34m(self, x, y, batch_size, epochs, verbose, callbacks, validation_split, validation_data, shuffle, class_weight, sample_weight, initial_epoch, steps_per_epoch, validation_steps, validation_batch_size, validation_freq, max_queue_size, workers, use_multiprocessing)\u001b[0m\n\u001b[0;32m   1553\u001b[0m                         \u001b[0mself\u001b[0m\u001b[1;33m.\u001b[0m\u001b[0m_maybe_load_initial_step_from_ckpt\u001b[0m\u001b[1;33m(\u001b[0m\u001b[1;33m)\u001b[0m\u001b[1;33m\u001b[0m\u001b[1;33m\u001b[0m\u001b[0m\n\u001b[0;32m   1554\u001b[0m                     )\n\u001b[1;32m-> 1555\u001b[1;33m                     \u001b[1;32mfor\u001b[0m \u001b[0mstep\u001b[0m \u001b[1;32min\u001b[0m \u001b[0mdata_handler\u001b[0m\u001b[1;33m.\u001b[0m\u001b[0msteps\u001b[0m\u001b[1;33m(\u001b[0m\u001b[1;33m)\u001b[0m\u001b[1;33m:\u001b[0m\u001b[1;33m\u001b[0m\u001b[1;33m\u001b[0m\u001b[0m\n\u001b[0m\u001b[0;32m   1556\u001b[0m                         with tf.profiler.experimental.Trace(\n\u001b[0;32m   1557\u001b[0m                             \u001b[1;34m\"train\"\u001b[0m\u001b[1;33m,\u001b[0m\u001b[1;33m\u001b[0m\u001b[1;33m\u001b[0m\u001b[0m\n",
      "\u001b[1;32m~\\anaconda3\\lib\\site-packages\\keras\\engine\\data_adapter.py\u001b[0m in \u001b[0;36msteps\u001b[1;34m(self)\u001b[0m\n\u001b[0;32m   1372\u001b[0m             \u001b[1;32mif\u001b[0m \u001b[0mself\u001b[0m\u001b[1;33m.\u001b[0m\u001b[0m_insufficient_data\u001b[0m\u001b[1;33m:\u001b[0m  \u001b[1;31m# Set by `catch_stop_iteration`.\u001b[0m\u001b[1;33m\u001b[0m\u001b[1;33m\u001b[0m\u001b[0m\n\u001b[0;32m   1373\u001b[0m                 \u001b[1;32mbreak\u001b[0m\u001b[1;33m\u001b[0m\u001b[1;33m\u001b[0m\u001b[0m\n\u001b[1;32m-> 1374\u001b[1;33m             \u001b[0moriginal_spe\u001b[0m \u001b[1;33m=\u001b[0m \u001b[0mself\u001b[0m\u001b[1;33m.\u001b[0m\u001b[0m_steps_per_execution\u001b[0m\u001b[1;33m.\u001b[0m\u001b[0mnumpy\u001b[0m\u001b[1;33m(\u001b[0m\u001b[1;33m)\u001b[0m\u001b[1;33m.\u001b[0m\u001b[0mitem\u001b[0m\u001b[1;33m(\u001b[0m\u001b[1;33m)\u001b[0m\u001b[1;33m\u001b[0m\u001b[1;33m\u001b[0m\u001b[0m\n\u001b[0m\u001b[0;32m   1375\u001b[0m             can_run_full_execution = (\n\u001b[0;32m   1376\u001b[0m                 \u001b[0moriginal_spe\u001b[0m \u001b[1;33m==\u001b[0m \u001b[1;36m1\u001b[0m\u001b[1;33m\u001b[0m\u001b[1;33m\u001b[0m\u001b[0m\n",
      "\u001b[1;32m~\\anaconda3\\lib\\site-packages\\tensorflow\\python\\ops\\resource_variable_ops.py\u001b[0m in \u001b[0;36mnumpy\u001b[1;34m(self)\u001b[0m\n\u001b[0;32m    635\u001b[0m   \u001b[1;32mdef\u001b[0m \u001b[0mnumpy\u001b[0m\u001b[1;33m(\u001b[0m\u001b[0mself\u001b[0m\u001b[1;33m)\u001b[0m\u001b[1;33m:\u001b[0m\u001b[1;33m\u001b[0m\u001b[1;33m\u001b[0m\u001b[0m\n\u001b[0;32m    636\u001b[0m     \u001b[1;32mif\u001b[0m \u001b[0mcontext\u001b[0m\u001b[1;33m.\u001b[0m\u001b[0mexecuting_eagerly\u001b[0m\u001b[1;33m(\u001b[0m\u001b[1;33m)\u001b[0m\u001b[1;33m:\u001b[0m\u001b[1;33m\u001b[0m\u001b[1;33m\u001b[0m\u001b[0m\n\u001b[1;32m--> 637\u001b[1;33m       \u001b[1;32mreturn\u001b[0m \u001b[0mself\u001b[0m\u001b[1;33m.\u001b[0m\u001b[0mread_value\u001b[0m\u001b[1;33m(\u001b[0m\u001b[1;33m)\u001b[0m\u001b[1;33m.\u001b[0m\u001b[0mnumpy\u001b[0m\u001b[1;33m(\u001b[0m\u001b[1;33m)\u001b[0m\u001b[1;33m\u001b[0m\u001b[1;33m\u001b[0m\u001b[0m\n\u001b[0m\u001b[0;32m    638\u001b[0m     raise NotImplementedError(\n\u001b[0;32m    639\u001b[0m         \"numpy() is only available when eager execution is enabled.\")\n",
      "\u001b[1;32m~\\anaconda3\\lib\\site-packages\\tensorflow\\python\\ops\\resource_variable_ops.py\u001b[0m in \u001b[0;36mread_value\u001b[1;34m(self)\u001b[0m\n\u001b[0;32m    723\u001b[0m     \"\"\"\n\u001b[0;32m    724\u001b[0m     \u001b[1;32mwith\u001b[0m \u001b[0mops\u001b[0m\u001b[1;33m.\u001b[0m\u001b[0mname_scope\u001b[0m\u001b[1;33m(\u001b[0m\u001b[1;34m\"Read\"\u001b[0m\u001b[1;33m)\u001b[0m\u001b[1;33m:\u001b[0m\u001b[1;33m\u001b[0m\u001b[1;33m\u001b[0m\u001b[0m\n\u001b[1;32m--> 725\u001b[1;33m       \u001b[0mvalue\u001b[0m \u001b[1;33m=\u001b[0m \u001b[0mself\u001b[0m\u001b[1;33m.\u001b[0m\u001b[0m_read_variable_op\u001b[0m\u001b[1;33m(\u001b[0m\u001b[1;33m)\u001b[0m\u001b[1;33m\u001b[0m\u001b[1;33m\u001b[0m\u001b[0m\n\u001b[0m\u001b[0;32m    726\u001b[0m     \u001b[1;31m# Return an identity so it can get placed on whatever device the context\u001b[0m\u001b[1;33m\u001b[0m\u001b[1;33m\u001b[0m\u001b[1;33m\u001b[0m\u001b[0m\n\u001b[0;32m    727\u001b[0m     \u001b[1;31m# specifies instead of the device where the variable is.\u001b[0m\u001b[1;33m\u001b[0m\u001b[1;33m\u001b[0m\u001b[1;33m\u001b[0m\u001b[0m\n",
      "\u001b[1;32m~\\anaconda3\\lib\\site-packages\\tensorflow\\python\\ops\\resource_variable_ops.py\u001b[0m in \u001b[0;36m_read_variable_op\u001b[1;34m(self, no_copy)\u001b[0m\n\u001b[0;32m    702\u001b[0m           \u001b[0mresult\u001b[0m \u001b[1;33m=\u001b[0m \u001b[0mread_and_set_handle\u001b[0m\u001b[1;33m(\u001b[0m\u001b[0mno_copy\u001b[0m\u001b[1;33m)\u001b[0m\u001b[1;33m\u001b[0m\u001b[1;33m\u001b[0m\u001b[0m\n\u001b[0;32m    703\u001b[0m     \u001b[1;32melse\u001b[0m\u001b[1;33m:\u001b[0m\u001b[1;33m\u001b[0m\u001b[1;33m\u001b[0m\u001b[0m\n\u001b[1;32m--> 704\u001b[1;33m       \u001b[0mresult\u001b[0m \u001b[1;33m=\u001b[0m \u001b[0mread_and_set_handle\u001b[0m\u001b[1;33m(\u001b[0m\u001b[0mno_copy\u001b[0m\u001b[1;33m)\u001b[0m\u001b[1;33m\u001b[0m\u001b[1;33m\u001b[0m\u001b[0m\n\u001b[0m\u001b[0;32m    705\u001b[0m \u001b[1;33m\u001b[0m\u001b[0m\n\u001b[0;32m    706\u001b[0m     \u001b[1;32mif\u001b[0m \u001b[1;32mnot\u001b[0m \u001b[0mcontext\u001b[0m\u001b[1;33m.\u001b[0m\u001b[0mexecuting_eagerly\u001b[0m\u001b[1;33m(\u001b[0m\u001b[1;33m)\u001b[0m\u001b[1;33m:\u001b[0m\u001b[1;33m\u001b[0m\u001b[1;33m\u001b[0m\u001b[0m\n",
      "\u001b[1;32m~\\anaconda3\\lib\\site-packages\\tensorflow\\python\\ops\\resource_variable_ops.py\u001b[0m in \u001b[0;36mread_and_set_handle\u001b[1;34m(no_copy)\u001b[0m\n\u001b[0;32m    692\u001b[0m       \u001b[1;32mif\u001b[0m \u001b[0mno_copy\u001b[0m \u001b[1;32mand\u001b[0m \u001b[0mforward_compat\u001b[0m\u001b[1;33m.\u001b[0m\u001b[0mforward_compatible\u001b[0m\u001b[1;33m(\u001b[0m\u001b[1;36m2022\u001b[0m\u001b[1;33m,\u001b[0m \u001b[1;36m5\u001b[0m\u001b[1;33m,\u001b[0m \u001b[1;36m3\u001b[0m\u001b[1;33m)\u001b[0m\u001b[1;33m:\u001b[0m\u001b[1;33m\u001b[0m\u001b[1;33m\u001b[0m\u001b[0m\n\u001b[0;32m    693\u001b[0m         \u001b[0mgen_resource_variable_ops\u001b[0m\u001b[1;33m.\u001b[0m\u001b[0mdisable_copy_on_read\u001b[0m\u001b[1;33m(\u001b[0m\u001b[0mself\u001b[0m\u001b[1;33m.\u001b[0m\u001b[0mhandle\u001b[0m\u001b[1;33m)\u001b[0m\u001b[1;33m\u001b[0m\u001b[1;33m\u001b[0m\u001b[0m\n\u001b[1;32m--> 694\u001b[1;33m       result = gen_resource_variable_ops.read_variable_op(\n\u001b[0m\u001b[0;32m    695\u001b[0m           self.handle, self._dtype)\n\u001b[0;32m    696\u001b[0m       \u001b[0m_maybe_set_handle_data\u001b[0m\u001b[1;33m(\u001b[0m\u001b[0mself\u001b[0m\u001b[1;33m.\u001b[0m\u001b[0m_dtype\u001b[0m\u001b[1;33m,\u001b[0m \u001b[0mself\u001b[0m\u001b[1;33m.\u001b[0m\u001b[0mhandle\u001b[0m\u001b[1;33m,\u001b[0m \u001b[0mresult\u001b[0m\u001b[1;33m)\u001b[0m\u001b[1;33m\u001b[0m\u001b[1;33m\u001b[0m\u001b[0m\n",
      "\u001b[1;32m~\\anaconda3\\lib\\site-packages\\tensorflow\\python\\ops\\gen_resource_variable_ops.py\u001b[0m in \u001b[0;36mread_variable_op\u001b[1;34m(resource, dtype, name)\u001b[0m\n\u001b[0;32m    522\u001b[0m   \u001b[1;32mif\u001b[0m \u001b[0mtld\u001b[0m\u001b[1;33m.\u001b[0m\u001b[0mis_eager\u001b[0m\u001b[1;33m:\u001b[0m\u001b[1;33m\u001b[0m\u001b[1;33m\u001b[0m\u001b[0m\n\u001b[0;32m    523\u001b[0m     \u001b[1;32mtry\u001b[0m\u001b[1;33m:\u001b[0m\u001b[1;33m\u001b[0m\u001b[1;33m\u001b[0m\u001b[0m\n\u001b[1;32m--> 524\u001b[1;33m       _result = pywrap_tfe.TFE_Py_FastPathExecute(\n\u001b[0m\u001b[0;32m    525\u001b[0m         _ctx, \"ReadVariableOp\", name, resource, \"dtype\", dtype)\n\u001b[0;32m    526\u001b[0m       \u001b[1;32mreturn\u001b[0m \u001b[0m_result\u001b[0m\u001b[1;33m\u001b[0m\u001b[1;33m\u001b[0m\u001b[0m\n",
      "\u001b[1;31mKeyboardInterrupt\u001b[0m: "
     ]
    }
   ],
   "source": [
    "input_layer_all = Input(shape=(29, ))\n",
    "encoded_all = Dense(12,activation='tanh')(input_layer_all)\n",
    "decoded_all = Dense(29,activation='sigmoid')(encoded_all)\n",
    "autoencoder_all = Model(input_layer_all,decoded_all)\n",
    "autoencoder_all.compile(optimizer='adam',loss='mean_squared_error')\n",
    "autoencoder_all.fit(X_train, X_train, epochs = 100, batch_size=128,\n",
    "validation_data=(X_train,X_train))"
   ]
  },
  {
   "cell_type": "code",
   "execution_count": null,
   "metadata": {
    "id": "9MntASWT9EYJ"
   },
   "outputs": [],
   "source": [
    "encoder_all = Model(input_layer_all,encoded_all)\n",
    "enc_all = encoder_all.predict(X_train)"
   ]
  },
  {
   "cell_type": "markdown",
   "metadata": {
    "id": "hYRDsZ6ygSJq"
   },
   "source": [
    "Loading library for k-NN"
   ]
  },
  {
   "cell_type": "code",
   "execution_count": null,
   "metadata": {
    "id": "iix7bOJQ5gxc"
   },
   "outputs": [],
   "source": [
    "from sklearn.neighbors import KNeighborsClassifier"
   ]
  },
  {
   "cell_type": "code",
   "execution_count": null,
   "metadata": {
    "id": "CaDHQXxt5iCg"
   },
   "outputs": [],
   "source": [
    "knn_model = KNeighborsClassifier(n_neighbors=3)"
   ]
  },
  {
   "cell_type": "code",
   "execution_count": null,
   "metadata": {
    "colab": {
     "base_uri": "https://localhost:8080/",
     "height": 72
    },
    "id": "YjqB805u9XqF",
    "outputId": "28832207-2428-4477-973e-760c44169ee8"
   },
   "outputs": [],
   "source": [
    "# Train the model using the training sets\n",
    "knn_model.fit(enc_all,y_train)"
   ]
  },
  {
   "cell_type": "code",
   "execution_count": null,
   "metadata": {
    "colab": {
     "base_uri": "https://localhost:8080/",
     "height": 54
    },
    "id": "80H7xbeSBvWc",
    "outputId": "ff0fe410-fda3-4ca8-ebbf-108b745579ce"
   },
   "outputs": [],
   "source": [
    "%%time\n",
    "knn_predicted= knn_model.predict(encoder_all.predict(X_test))"
   ]
  },
  {
   "cell_type": "code",
   "execution_count": null,
   "metadata": {
    "colab": {
     "base_uri": "https://localhost:8080/",
     "height": 295
    },
    "id": "6aVN3Qe-D3Oz",
    "outputId": "33126592-8277-4c98-8167-4be8a5159c2a"
   },
   "outputs": [],
   "source": [
    "conf_matrix = metrics.confusion_matrix(y_test,knn_predicted)\n",
    "\n",
    "ax=plt.subplot()\n",
    "sns.heatmap(conf_matrix,annot=True,ax=ax,fmt='g')#annot=True to annotate cells, fmt='g' numbers not scientific form\n",
    "ax.set_xlabel('Predicted labels'); ax.set_ylabel('True labels')\n",
    "ax.set_title('Confusion Matrix'); \n",
    "ax.xaxis.set_ticklabels(['Normal', 'Fraud']); ax.yaxis.set_ticklabels(['Normal', 'Fraud']);\n",
    "ax.set(yticks=[0, 2], \n",
    "       xticks=[0.5, 1.5])\n",
    "ax.yaxis.set_major_locator(ticker.IndexLocator(base=1, offset=0.5))"
   ]
  }
 ],
 "metadata": {
  "colab": {
   "collapsed_sections": [],
   "include_colab_link": true,
   "provenance": [],
   "toc_visible": true
  },
  "kernelspec": {
   "display_name": "Python 3",
   "language": "python",
   "name": "python3"
  },
  "language_info": {
   "codemirror_mode": {
    "name": "ipython",
    "version": 3
   },
   "file_extension": ".py",
   "mimetype": "text/x-python",
   "name": "python",
   "nbconvert_exporter": "python",
   "pygments_lexer": "ipython3",
   "version": "3.8.8"
  }
 },
 "nbformat": 4,
 "nbformat_minor": 1
}

{
 "cells": [
  {
   "cell_type": "markdown",
   "id": "51256edc",
   "metadata": {},
   "source": [
    "Implement the Image classification CNN model for classifying hand-written MNIST\n",
    "dataset by dividing the model into following 4 stages:<br>\n",
    "a. Loading and preprocessing the image data<br>\n",
    "b. Defining the model's architecture<br>\n",
    "c. Training the model<br>\n",
    "d. Estimating the model's performance<br>"
   ]
  },
  {
   "cell_type": "code",
   "execution_count": 32,
   "id": "9cde6431",
   "metadata": {},
   "outputs": [],
   "source": [
    "# to calculate accuracy\n",
    "from sklearn.metrics import classification_report\n",
    "from sklearn.preprocessing import LabelBinarizer\n",
    "# keras imports for the dataset and building our neural network\n",
    "from keras.models import Sequential\n",
    "from keras.layers import Dense, Dropout, Conv2D, MaxPool2D, Flatten\n",
    "from keras.datasets import mnist\n",
    "#from keras.utils import np_utils"
   ]
  },
  {
   "cell_type": "code",
   "execution_count": 33,
   "id": "97e04801",
   "metadata": {},
   "outputs": [],
   "source": [
    "# loading the dataset\n",
    "(trainX, trainY), (testX, testY) = mnist.load_data()\n",
    "\n",
    "# building the input vector from the 28x28 pixels\n",
    "trainX = trainX.reshape(trainX.shape[0], 28 ,28 , 1)\n",
    "testX = testX.reshape(testX.shape[0], 28 , 28 ,1)\n",
    "trainX = trainX.astype('float32')/255\n",
    "testX = testX.astype('float32')/255\n",
    "\n",
    "lb = LabelBinarizer()\n",
    "trainY = lb.fit_transform(trainY)\n",
    "testY = lb.transform(testY)"
   ]
  },
  {
   "cell_type": "code",
   "execution_count": 34,
   "id": "d0c7199c",
   "metadata": {},
   "outputs": [
    {
     "name": "stdout",
     "output_type": "stream",
     "text": [
      "Epoch 1/3\n",
      "469/469 [==============================] - 151s 306ms/step - loss: 0.1946 - accuracy: 0.9435 - val_loss: 0.0744 - val_accuracy: 0.9763\n",
      "Epoch 2/3\n",
      "469/469 [==============================] - 142s 303ms/step - loss: 0.0584 - accuracy: 0.9823 - val_loss: 0.0600 - val_accuracy: 0.9797\n",
      "Epoch 3/3\n",
      "469/469 [==============================] - 164s 350ms/step - loss: 0.0339 - accuracy: 0.9897 - val_loss: 0.0584 - val_accuracy: 0.9818\n"
     ]
    },
    {
     "data": {
      "text/plain": [
       "<keras.callbacks.History at 0xb716701fd0>"
      ]
     },
     "execution_count": 34,
     "metadata": {},
     "output_type": "execute_result"
    }
   ],
   "source": [
    "# building a linear stack of layers with the sequential model\n",
    "model = Sequential()\n",
    "# convolutional layer\n",
    "model.add(Conv2D(25, input_shape=(28,28,1), kernel_size=(3,3), strides=(1,1), padding='valid', activation='relu'))\n",
    "model.add(MaxPool2D(pool_size=(1,1)))\n",
    "# flatten output of conv\n",
    "model.add(Flatten())\n",
    "# hidden layer\n",
    "model.add(Dense(100, activation='relu'))\n",
    "# output layer\n",
    "model.add(Dense(10, activation='softmax'))\n",
    "\n",
    "# compiling the sequential model\n",
    "model.compile(loss='categorical_crossentropy', metrics=['accuracy'], optimizer='adam')\n",
    "\n",
    "# training the model for 10 epochs\n",
    "model.fit(trainX, trainY, validation_data=(testX, testY), epochs=3, batch_size=128)"
   ]
  },
  {
   "cell_type": "code",
   "execution_count": 35,
   "id": "d45d1f06",
   "metadata": {},
   "outputs": [
    {
     "name": "stdout",
     "output_type": "stream",
     "text": [
      "313/313 [==============================] - 21s 63ms/step\n",
      "              precision    recall  f1-score   support\n",
      "\n",
      "           0       0.99      0.99      0.99       980\n",
      "           1       0.99      0.99      0.99      1135\n",
      "           2       0.99      0.98      0.98      1032\n",
      "           3       0.95      1.00      0.97      1010\n",
      "           4       0.98      0.99      0.99       982\n",
      "           5       0.98      0.98      0.98       892\n",
      "           6       0.98      0.99      0.98       958\n",
      "           7       0.98      0.99      0.98      1028\n",
      "           8       0.98      0.97      0.98       974\n",
      "           9       1.00      0.94      0.97      1009\n",
      "\n",
      "    accuracy                           0.98     10000\n",
      "   macro avg       0.98      0.98      0.98     10000\n",
      "weighted avg       0.98      0.98      0.98     10000\n",
      "\n"
     ]
    }
   ],
   "source": [
    "# evaluate the network\n",
    "# initialize the label names for the CIFAR-10 dataset\n",
    "labelNames = [\"airplane\", \"automobile\", \"bird\", \"cat\", \"deer\", \"dog\", \"frog\", \"horse\", \"ship\", \"truck\"]\n",
    "predictions=model.predict(testX)\n",
    "print(classification_report(testY.argmax(axis=1), predictions.argmax(axis=1), target_names=labelnames))"
   ]
  }
 ],
 "metadata": {
  "kernelspec": {
   "display_name": "Python 3",
   "language": "python",
   "name": "python3"
  },
  "language_info": {
   "codemirror_mode": {
    "name": "ipython",
    "version": 3
   },
   "file_extension": ".py",
   "mimetype": "text/x-python",
   "name": "python",
   "nbconvert_exporter": "python",
   "pygments_lexer": "ipython3",
   "version": "3.8.8"
  }
 },
 "nbformat": 4,
 "nbformat_minor": 5
}

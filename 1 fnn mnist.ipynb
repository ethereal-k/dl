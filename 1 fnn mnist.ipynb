{
 "cells": [
  {
   "cell_type": "markdown",
   "id": "bb8222f2",
   "metadata": {},
   "source": [
    " Implementing Feedforward neural networks with Keras and TensorFlow for classification of hand-written MNIST dataset using below steps:<br>\n",
    "a. Import the necessary packages<br>\n",
    "b. Load the training and testing data<br>\n",
    "c. Define the network architecture using Keras<br>\n",
    "d. Train the model using SGD with 11 epochs<br>\n",
    "e. Evaluate the network<br>\n",
    "f. Plot the training loss and accuracy"
   ]
  },
  {
   "cell_type": "code",
   "execution_count": 66,
   "id": "ad53cf12",
   "metadata": {},
   "outputs": [],
   "source": [
    "# Import the necessary packages\n",
    "import numpy as np\n",
    "import matplotlib.pyplot as plt\n",
    "from sklearn.preprocessing import LabelBinarizer\n",
    "from sklearn.metrics import classification_report\n",
    "from tensorflow.keras.models import Sequential\n",
    "from tensorflow.keras.layers import Dense\n",
    "from tensorflow.keras.optimizers import SGD\n",
    "from tensorflow.keras.datasets import mnist\n",
    "#from tensorflow.keras import backend as K\n",
    "#import tensorflow as tf"
   ]
  },
  {
   "cell_type": "code",
   "execution_count": 67,
   "id": "70b63c00",
   "metadata": {
    "scrolled": true
   },
   "outputs": [],
   "source": [
    "# Load training and testing data\n",
    "((trainX, trainY), (testX, testY)) = mnist.load_data()"
   ]
  },
  {
   "cell_type": "code",
   "execution_count": 68,
   "id": "a685cd08",
   "metadata": {},
   "outputs": [],
   "source": [
    "# each image in the MNIST dataset is represented as a 28x28x1\n",
    "# image, but in order to apply a standard neural network we must\n",
    "# first \"flatten\" the image to be simple list of 28x28=784 pixels\n",
    "trainX = trainX.reshape(trainX.shape[0], 28 * 28 * 1)\n",
    "testX = testX.reshape(testX.shape[0], 28 * 28 * 1)\n",
    "# scale data to the range of [0, 1] and normalizing it\n",
    "trainX = trainX.astype(\"float32\") / 255.0\n",
    "testX = testX.astype(\"float32\") / 255.0\n",
    "#encoding\n",
    "lb = LabelBinarizer()\n",
    "trainY = lb.fit_transform(trainY)\n",
    "testY = lb.fit_transform(testY)"
   ]
  },
  {
   "cell_type": "code",
   "execution_count": 69,
   "id": "56892126",
   "metadata": {},
   "outputs": [],
   "source": [
    "# define the 784-256-128-10 architecture using Keras\n",
    "model = Sequential()\n",
    "model.add(Dense(256, input_shape=(784, ), activation=\"relu\"))\n",
    "model.add(Dense(128, activation=\"relu\"))\n",
    "model.add(Dense(10, activation=\"softmax\"))"
   ]
  },
  {
   "cell_type": "code",
   "execution_count": 70,
   "id": "119f49a8",
   "metadata": {},
   "outputs": [
    {
     "name": "stdout",
     "output_type": "stream",
     "text": [
      "[INFO] training network...\n",
      "Epoch 1/11\n",
      "1875/1875 [==============================] - 18s 9ms/step - loss: 0.6013 - accuracy: 0.8418 - val_loss: 0.2957 - val_accuracy: 0.9187\n",
      "Epoch 2/11\n",
      "1875/1875 [==============================] - 16s 9ms/step - loss: 0.2795 - accuracy: 0.9199 - val_loss: 0.2346 - val_accuracy: 0.9345\n",
      "Epoch 3/11\n",
      "1875/1875 [==============================] - 15s 8ms/step - loss: 0.2265 - accuracy: 0.9350 - val_loss: 0.1990 - val_accuracy: 0.9419\n",
      "Epoch 4/11\n",
      "1875/1875 [==============================] - 15s 8ms/step - loss: 0.1928 - accuracy: 0.9452 - val_loss: 0.1783 - val_accuracy: 0.9471\n",
      "Epoch 5/11\n",
      "1875/1875 [==============================] - 14s 8ms/step - loss: 0.1680 - accuracy: 0.9519 - val_loss: 0.1608 - val_accuracy: 0.9526\n",
      "Epoch 6/11\n",
      "1875/1875 [==============================] - 14s 8ms/step - loss: 0.1484 - accuracy: 0.9578 - val_loss: 0.1453 - val_accuracy: 0.9569\n",
      "Epoch 7/11\n",
      "1875/1875 [==============================] - 16s 8ms/step - loss: 0.1335 - accuracy: 0.9623 - val_loss: 0.1344 - val_accuracy: 0.9611\n",
      "Epoch 8/11\n",
      "1875/1875 [==============================] - 16s 9ms/step - loss: 0.1201 - accuracy: 0.9655 - val_loss: 0.1270 - val_accuracy: 0.9628\n",
      "Epoch 9/11\n",
      "1875/1875 [==============================] - 17s 9ms/step - loss: 0.1099 - accuracy: 0.9689 - val_loss: 0.1120 - val_accuracy: 0.9657\n",
      "Epoch 10/11\n",
      "1875/1875 [==============================] - 16s 9ms/step - loss: 0.1005 - accuracy: 0.9716 - val_loss: 0.1105 - val_accuracy: 0.9664\n",
      "Epoch 11/11\n",
      "1875/1875 [==============================] - 16s 9ms/step - loss: 0.0925 - accuracy: 0.9740 - val_loss: 0.1041 - val_accuracy: 0.9693\n"
     ]
    }
   ],
   "source": [
    "# train the model using SGD with 11 epoches\n",
    "print(\"[INFO] training network...\")\n",
    "sgd = SGD(0.01)\n",
    "model.compile(loss=\"categorical_crossentropy\", optimizer=sgd, metrics=[\"accuracy\"])\n",
    "H = model.fit(trainX, trainY, validation_data=(testX, testY), epochs=11) #, batch_size=128)"
   ]
  },
  {
   "cell_type": "code",
   "execution_count": 72,
   "id": "e462a6e3",
   "metadata": {},
   "outputs": [
    {
     "name": "stdout",
     "output_type": "stream",
     "text": [
      "[INFO] evaluating network...\n",
      "79/79 [==============================] - 1s 8ms/step\n",
      "              precision    recall  f1-score   support\n",
      "\n",
      "           0       0.97      0.99      0.98       980\n",
      "           1       0.98      0.99      0.99      1135\n",
      "           2       0.96      0.97      0.97      1032\n",
      "           3       0.96      0.98      0.97      1010\n",
      "           4       0.97      0.97      0.97       982\n",
      "           5       0.98      0.95      0.96       892\n",
      "           6       0.97      0.98      0.97       958\n",
      "           7       0.97      0.97      0.97      1028\n",
      "           8       0.97      0.95      0.96       974\n",
      "           9       0.97      0.95      0.96      1009\n",
      "\n",
      "    accuracy                           0.97     10000\n",
      "   macro avg       0.97      0.97      0.97     10000\n",
      "weighted avg       0.97      0.97      0.97     10000\n",
      "\n"
     ]
    }
   ],
   "source": [
    "# evaluate the network\n",
    "print(\"[INFO] evaluating network...\")\n",
    "labelnames = [\"0\", \"1\", \"2\", \"3\", \"4\", \"5\", \"6\", \"7\", \"8\", \"9\"]\n",
    "predictions = model.predict(testX, batch_size=128)\n",
    "print(classification_report(testY.argmax(axis=1), predictions.argmax(axis=1), target_names=labelnames))"
   ]
  },
  {
   "cell_type": "code",
   "execution_count": 73,
   "id": "db0002c9",
   "metadata": {},
   "outputs": [
    {
     "data": {
      "text/plain": [
       "<Figure size 432x288 with 0 Axes>"
      ]
     },
     "execution_count": 73,
     "metadata": {},
     "output_type": "execute_result"
    },
    {
     "data": {
      "image/png": "[encoded data removed]",
      "text/plain": [
       "<Figure size 432x288 with 1 Axes>"
      ]
     },
     "metadata": {},
     "output_type": "display_data"
    },
    {
     "data": {
      "text/plain": [
       "<Figure size 432x288 with 0 Axes>"
      ]
     },
     "metadata": {},
     "output_type": "display_data"
    }
   ],
   "source": [
    "# plot the training loss and accuracy\n",
    "plt.style.use(\"ggplot\")\n",
    "plt.title(\"Training Loss and Accuracy\")\n",
    "plt.xlabel(\"Epoch #\")\n",
    "plt.ylabel(\"Loss/Accuracy\")\n",
    "plt.plot(np.arange(0, 11), H.history[\"loss\"], label=\"train_loss\")\n",
    "plt.plot(np.arange(0, 11), H.history[\"val_loss\"], label=\"val_loss\")\n",
    "plt.plot(np.arange(0, 11), H.history[\"accuracy\"], label=\"train_acc\")\n",
    "plt.plot(np.arange(0, 11), H.history[\"val_accuracy\"], label=\"val_acc\")\n",
    "plt.legend()\n",
    "plt.figure()"
   ]
  }
 ],
 "metadata": {
  "kernelspec": {
   "display_name": "Python 3",
   "language": "python",
   "name": "python3"
  },
  "language_info": {
   "codemirror_mode": {
    "name": "ipython",
    "version": 3
   },
   "file_extension": ".py",
   "mimetype": "text/x-python",
   "name": "python",
   "nbconvert_exporter": "python",
   "pygments_lexer": "ipython3",
   "version": "3.8.8"
  }
 },
 "nbformat": 4,
 "nbformat_minor": 5
}

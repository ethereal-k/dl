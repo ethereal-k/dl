{
 "cells": [
  {
   "cell_type": "markdown",
   "id": "39fd4c2e",
   "metadata": {},
   "source": [
    "Build Feedforward neural networks with Keras and TensorFlow for classification of\n",
    "CIFAR10 image dataset using the following steps:<br>\n",
    "a. Import the necessary packages<br>\n",
    "b. Load the training and testing data<br>\n",
    "c. Define the network architecture using Keras<br>\n",
    "d. Train the model using SGD/Adam optimizer<br>\n",
    "e. Evaluate the network<br>\n",
    "f. Plot the training loss and accuracy<br>"
   ]
  },
  {
   "cell_type": "code",
   "execution_count": 2,
   "id": "8e4d1ffa",
   "metadata": {},
   "outputs": [],
   "source": [
    "# import the necessary packages\n",
    "import matplotlib.pyplot as plt\n",
    "import numpy as np\n",
    "from sklearn.preprocessing import LabelBinarizer\n",
    "from sklearn.metrics import classification_report\n",
    "from tensorflow.keras.models import Sequential\n",
    "from tensorflow.keras.layers import Dense\n",
    "from tensorflow.keras.optimizers import SGD\n",
    "from tensorflow.keras.datasets import cifar10"
   ]
  },
  {
   "cell_type": "code",
   "execution_count": 3,
   "id": "8d41e9ae",
   "metadata": {},
   "outputs": [
    {
     "name": "stdout",
     "output_type": "stream",
     "text": [
      "[INFO] loading CIFAR-10 data...\n"
     ]
    }
   ],
   "source": [
    "# load the training and testing data, scale it into the range [0, 1],\n",
    "# then reshape the design matrix\n",
    "print(\"[INFO] loading CIFAR-10 data...\")\n",
    "((trainX, trainY), (testX, testY)) = cifar10.load_data()\n",
    "trainX = trainX.astype(\"float\") / 255.0\n",
    "testX = testX.astype(\"float\") / 255.0\n",
    "trainX = trainX.reshape((trainX.shape[0], 32 * 32 * 3))\n",
    "testX = testX.reshape((testX.shape[0], 32 * 32 * 3))"
   ]
  },
  {
   "cell_type": "code",
   "execution_count": 4,
   "id": "46eeae8e",
   "metadata": {},
   "outputs": [],
   "source": [
    "# convert the labels from integers to vectors\n",
    "lb = LabelBinarizer()\n",
    "trainY = lb.fit_transform(trainY)\n",
    "testY = lb.fit_transform(testY)"
   ]
  },
  {
   "cell_type": "code",
   "execution_count": 5,
   "id": "6740f718",
   "metadata": {},
   "outputs": [],
   "source": [
    "# define the 3072-1024-512-10 architecture using Keras\n",
    "model = Sequential()\n",
    "model.add(Dense(1024, input_shape=(3072,), activation=\"relu\"))\n",
    "model.add(Dense(512, activation=\"relu\"))\n",
    "model.add(Dense(10, activation=\"softmax\"))"
   ]
  },
  {
   "cell_type": "code",
   "execution_count": 8,
   "id": "18a5b9d3",
   "metadata": {},
   "outputs": [
    {
     "name": "stdout",
     "output_type": "stream",
     "text": [
      "[INFO] training network...\n",
      "Epoch 1/10\n",
      "1563/1563 [==============================] - 108s 67ms/step - loss: 1.6441 - accuracy: 0.4174 - val_loss: 1.6149 - val_accuracy: 0.4257\n",
      "Epoch 2/10\n",
      "1563/1563 [==============================] - 114s 73ms/step - loss: 1.5655 - accuracy: 0.4495 - val_loss: 1.5729 - val_accuracy: 0.4399\n",
      "Epoch 3/10\n",
      "1563/1563 [==============================] - 118s 75ms/step - loss: 1.5097 - accuracy: 0.4678 - val_loss: 1.5175 - val_accuracy: 0.4672\n",
      "Epoch 4/10\n",
      "1563/1563 [==============================] - 118s 76ms/step - loss: 1.4637 - accuracy: 0.4861 - val_loss: 1.5591 - val_accuracy: 0.4381\n",
      "Epoch 5/10\n",
      "1563/1563 [==============================] - 106s 68ms/step - loss: 1.4223 - accuracy: 0.4992 - val_loss: 1.4556 - val_accuracy: 0.4812\n",
      "Epoch 6/10\n",
      "1563/1563 [==============================] - 108s 69ms/step - loss: 1.3861 - accuracy: 0.5116 - val_loss: 1.4592 - val_accuracy: 0.4844\n",
      "Epoch 7/10\n",
      "1563/1563 [==============================] - 108s 69ms/step - loss: 1.3550 - accuracy: 0.5239 - val_loss: 1.4351 - val_accuracy: 0.4839\n",
      "Epoch 8/10\n",
      "1563/1563 [==============================] - 109s 70ms/step - loss: 1.3223 - accuracy: 0.5352 - val_loss: 1.4015 - val_accuracy: 0.4991\n",
      "Epoch 9/10\n",
      "1563/1563 [==============================] - 104s 66ms/step - loss: 1.2953 - accuracy: 0.5454 - val_loss: 1.4442 - val_accuracy: 0.4845\n",
      "Epoch 10/10\n",
      "1563/1563 [==============================] - 154s 99ms/step - loss: 1.2679 - accuracy: 0.5552 - val_loss: 1.4206 - val_accuracy: 0.4942\n"
     ]
    }
   ],
   "source": [
    "# train the model using SGD\n",
    "print(\"[INFO] training network...\")\n",
    "sgd = SGD(0.01)\n",
    "model.compile(loss=\"categorical_crossentropy\", optimizer=sgd, metrics=[\"accuracy\"])\n",
    "H = model.fit(trainX, trainY, validation_data=(testX, testY), epochs=10, batch_size=32)"
   ]
  },
  {
   "cell_type": "code",
   "execution_count": 9,
   "id": "b0451272",
   "metadata": {},
   "outputs": [
    {
     "name": "stdout",
     "output_type": "stream",
     "text": [
      "[INFO] evaluating network...\n",
      "313/313 [==============================] - 30s 46ms/step\n",
      "              precision    recall  f1-score   support\n",
      "\n",
      "    airplane       0.60      0.59      0.60      1000\n",
      "  automobile       0.67      0.63      0.65      1000\n",
      "        bird       0.48      0.32      0.38      1000\n",
      "         cat       0.26      0.73      0.39      1000\n",
      "        deer       0.52      0.31      0.39      1000\n",
      "         dog       0.51      0.12      0.19      1000\n",
      "        frog       0.58      0.53      0.55      1000\n",
      "       horse       0.47      0.70      0.56      1000\n",
      "        ship       0.73      0.55      0.62      1000\n",
      "       truck       0.70      0.48      0.57      1000\n",
      "\n",
      "    accuracy                           0.49     10000\n",
      "   macro avg       0.55      0.49      0.49     10000\n",
      "weighted avg       0.55      0.49      0.49     10000\n",
      "\n"
     ]
    }
   ],
   "source": [
    "# evaluate the network\n",
    "print(\"[INFO] evaluating network...\")\n",
    "# initialize the label names for the CIFAR-10 dataset\n",
    "labelNames = [\"airplane\", \"automobile\", \"bird\", \"cat\", \"deer\", \"dog\", \"frog\", \"horse\", \"ship\", \"truck\"]\n",
    "predictions = model.predict(testX, batch_size=32)\n",
    "print(classification_report(testY.argmax(axis=1), predictions.argmax(axis=1), target_names=labelNames))"
   ]
  },
  {
   "cell_type": "code",
   "execution_count": 11,
   "id": "16851a91",
   "metadata": {},
   "outputs": [
    {
     "data": {
      "text/plain": [
       "<matplotlib.legend.Legend at 0xe91541c40>"
      ]
     },
     "execution_count": 11,
     "metadata": {},
     "output_type": "execute_result"
    },
    {
     "data": {
      "image/png": "[encoded data removed]",
      "text/plain": [
       "<Figure size 432x288 with 1 Axes>"
      ]
     },
     "metadata": {},
     "output_type": "display_data"
    }
   ],
   "source": [
    "# plot the training loss and accuracy\n",
    "plt.style.use(\"ggplot\")\n",
    "plt.title(\"Training Loss and Accuracy\")\n",
    "plt.xlabel(\"Epoch #\")\n",
    "plt.ylabel(\"Loss/Accuracy\")\n",
    "plt.plot(np.arange(0, 10), H.history[\"loss\"], label=\"train_loss\")\n",
    "plt.plot(np.arange(0, 10), H.history[\"val_loss\"], label=\"val_loss\")\n",
    "plt.plot(np.arange(0, 10), H.history[\"accuracy\"], label=\"train_acc\")\n",
    "plt.plot(np.arange(0, 10), H.history[\"val_accuracy\"], label=\"val_acc\")\n",
    "plt.legend()\n",
    "plt.figure()"
   ]
  }
 ],
 "metadata": {
  "kernelspec": {
   "display_name": "Python 3",
   "language": "python",
   "name": "python3"
  },
  "language_info": {
   "codemirror_mode": {
    "name": "ipython",
    "version": 3
   },
   "file_extension": ".py",
   "mimetype": "text/x-python",
   "name": "python",
   "nbconvert_exporter": "python",
   "pygments_lexer": "ipython3",
   "version": "3.8.8"
  }
 },
 "nbformat": 4,
 "nbformat_minor": 5
}

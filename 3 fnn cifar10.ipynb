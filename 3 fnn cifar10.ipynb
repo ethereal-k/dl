{
 "cells": [
  {
   "cell_type": "markdown",
   "id": "39fd4c2e",
   "metadata": {},
   "source": [
    "Build Feedforward neural networks with Keras and TensorFlow for classification of\n",
    "CIFAR10 image dataset using the following steps:<br>\n",
    "a. Import the necessary packages<br>\n",
    "b. Load the training and testing data<br>\n",
    "c. Define the network architecture using Keras<br>\n",
    "d. Train the model using SGD/Adam optimizer<br>\n",
    "e. Evaluate the network<br>\n",
    "f. Plot the training loss and accuracy<br>"
   ]
  },
  {
   "cell_type": "code",
   "execution_count": 1,
   "id": "8e4d1ffa",
   "metadata": {},
   "outputs": [],
   "source": [
    "# import the necessary packages\n",
    "import matplotlib.pyplot as plt\n",
    "import numpy as np\n",
    "from sklearn.preprocessing import LabelBinarizer\n",
    "from sklearn.metrics import classification_report\n",
    "from tensorflow.keras.models import Sequential\n",
    "from tensorflow.keras.layers import Dense\n",
    "from tensorflow.keras.optimizers import SGD\n",
    "from tensorflow.keras.datasets import cifar10"
   ]
  },
  {
   "cell_type": "code",
   "execution_count": 2,
   "id": "8d41e9ae",
   "metadata": {},
   "outputs": [
    {
     "name": "stdout",
     "output_type": "stream",
     "text": [
      "[INFO] loading CIFAR-10 data...\n"
     ]
    }
   ],
   "source": [
    "# load the training and testing data, scale it into the range [0, 1],\n",
    "# then reshape the design matrix\n",
    "print(\"[INFO] loading CIFAR-10 data...\")\n",
    "((trainX, trainY), (testX, testY)) = cifar10.load_data()\n",
    "trainX = trainX.astype(\"float\") / 255.0\n",
    "testX = testX.astype(\"float\") / 255.0\n",
    "trainX = trainX.reshape((trainX.shape[0], 32 * 32 * 3))\n",
    "testX = testX.reshape((testX.shape[0], 32 * 32 * 3))"
   ]
  },
  {
   "cell_type": "code",
   "execution_count": 3,
   "id": "46eeae8e",
   "metadata": {},
   "outputs": [],
   "source": [
    "# convert the labels from integers to vectors\n",
    "lb = LabelBinarizer()\n",
    "trainY = lb.fit_transform(trainY)\n",
    "testY = lb.fit_transform(testY)"
   ]
  },
  {
   "cell_type": "code",
   "execution_count": 4,
   "id": "6740f718",
   "metadata": {},
   "outputs": [],
   "source": [
    "# define the 3072-1024-512-10 architecture using Keras\n",
    "model = Sequential()\n",
    "model.add(Dense(1024, input_shape=(3072,), activation=\"relu\"))\n",
    "model.add(Dense(512, activation=\"relu\"))\n",
    "model.add(Dense(10, activation=\"softmax\"))"
   ]
  },
  {
   "cell_type": "code",
   "execution_count": 5,
   "id": "18a5b9d3",
   "metadata": {},
   "outputs": [
    {
     "name": "stdout",
     "output_type": "stream",
     "text": [
      "[INFO] training network...\n",
      "Epoch 1/10\n",
      "1563/1563 [==============================] - 116s 72ms/step - loss: 1.8366 - accuracy: 0.3463 - val_loss: 1.7391 - val_accuracy: 0.3749\n",
      "Epoch 2/10\n",
      "1563/1563 [==============================] - 103s 66ms/step - loss: 1.6492 - accuracy: 0.4167 - val_loss: 1.5829 - val_accuracy: 0.4394\n",
      "Epoch 3/10\n",
      "1563/1563 [==============================] - 102s 65ms/step - loss: 1.5713 - accuracy: 0.4476 - val_loss: 1.6316 - val_accuracy: 0.4128\n",
      "Epoch 4/10\n",
      "1563/1563 [==============================] - 102s 65ms/step - loss: 1.5104 - accuracy: 0.4671 - val_loss: 1.5945 - val_accuracy: 0.4450\n",
      "Epoch 5/10\n",
      "1563/1563 [==============================] - 103s 66ms/step - loss: 1.4633 - accuracy: 0.4842 - val_loss: 1.4674 - val_accuracy: 0.4788\n",
      "Epoch 6/10\n",
      "1563/1563 [==============================] - 104s 67ms/step - loss: 1.4203 - accuracy: 0.4988 - val_loss: 1.4541 - val_accuracy: 0.4860\n",
      "Epoch 7/10\n",
      "1563/1563 [==============================] - 106s 68ms/step - loss: 1.3860 - accuracy: 0.5093 - val_loss: 1.4885 - val_accuracy: 0.4716\n",
      "Epoch 8/10\n",
      "1563/1563 [==============================] - 99s 63ms/step - loss: 1.3546 - accuracy: 0.5223 - val_loss: 1.4080 - val_accuracy: 0.4964\n",
      "Epoch 9/10\n",
      "1563/1563 [==============================] - 104s 66ms/step - loss: 1.3256 - accuracy: 0.5331 - val_loss: 1.3909 - val_accuracy: 0.5024\n",
      "Epoch 10/10\n",
      "1563/1563 [==============================] - 102s 65ms/step - loss: 1.2974 - accuracy: 0.5425 - val_loss: 1.5343 - val_accuracy: 0.4617\n"
     ]
    }
   ],
   "source": [
    "# train the model using SGD\n",
    "print(\"[INFO] training network...\")\n",
    "sgd = SGD(0.01)\n",
    "model.compile(loss=\"categorical_crossentropy\", optimizer=sgd, metrics=[\"accuracy\"])\n",
    "H = model.fit(trainX, trainY, validation_data=(testX, testY), epochs=10, batch_size=32)"
   ]
  },
  {
   "cell_type": "code",
   "execution_count": 6,
   "id": "b0451272",
   "metadata": {},
   "outputs": [
    {
     "name": "stdout",
     "output_type": "stream",
     "text": [
      "[INFO] evaluating network...\n",
      "313/313 [==============================] - 8s 25ms/step\n",
      "              precision    recall  f1-score   support\n",
      "\n",
      "    airplane       0.43      0.67      0.52      1000\n",
      "  automobile       0.35      0.88      0.50      1000\n",
      "        bird       0.37      0.45      0.40      1000\n",
      "         cat       0.45      0.18      0.26      1000\n",
      "        deer       0.57      0.21      0.31      1000\n",
      "         dog       0.49      0.32      0.39      1000\n",
      "        frog       0.66      0.44      0.53      1000\n",
      "       horse       0.49      0.59      0.54      1000\n",
      "        ship       0.72      0.47      0.57      1000\n",
      "       truck       0.54      0.40      0.46      1000\n",
      "\n",
      "    accuracy                           0.46     10000\n",
      "   macro avg       0.51      0.46      0.45     10000\n",
      "weighted avg       0.51      0.46      0.45     10000\n",
      "\n"
     ]
    }
   ],
   "source": [
    "# evaluate the network\n",
    "print(\"[INFO] evaluating network...\")\n",
    "# initialize the label names for the CIFAR-10 dataset\n",
    "labelNames = [\"airplane\", \"automobile\", \"bird\", \"cat\", \"deer\", \"dog\", \"frog\", \"horse\", \"ship\", \"truck\"]\n",
    "predictions = model.predict(testX, batch_size=32)\n",
    "print(classification_report(testY.argmax(axis=1), predictions.argmax(axis=1), target_names=labelNames))"
   ]
  },
  {
   "cell_type": "code",
   "execution_count": 7,
   "id": "16851a91",
   "metadata": {},
   "outputs": [
    {
     "data": {
      "text/plain": [
       "<Figure size 432x288 with 0 Axes>"
      ]
     },
     "execution_count": 7,
     "metadata": {},
     "output_type": "execute_result"
    },
    {
     "data": {
      "image/png": "[encoded data removed]",
      "text/plain": [
       "<Figure size 432x288 with 1 Axes>"
      ]
     },
     "metadata": {},
     "output_type": "display_data"
    },
    {
     "data": {
      "text/plain": [
       "<Figure size 432x288 with 0 Axes>"
      ]
     },
     "metadata": {},
     "output_type": "display_data"
    }
   ],
   "source": [
    "# plot the training loss and accuracy\n",
    "plt.style.use(\"ggplot\")\n",
    "plt.title(\"Training Loss and Accuracy\")\n",
    "plt.xlabel(\"Epoch #\")\n",
    "plt.ylabel(\"Loss/Accuracy\")\n",
    "plt.plot(np.arange(0, 10), H.history[\"loss\"], label=\"train_loss\")\n",
    "plt.plot(np.arange(0, 10), H.history[\"val_loss\"], label=\"val_loss\")\n",
    "plt.plot(np.arange(0, 10), H.history[\"accuracy\"], label=\"train_acc\")\n",
    "plt.plot(np.arange(0, 10), H.history[\"val_accuracy\"], label=\"val_acc\")\n",
    "plt.legend()\n",
    "plt.figure()"
   ]
  }
 ],
 "metadata": {
  "kernelspec": {
   "display_name": "Python 3",
   "language": "python",
   "name": "python3"
  },
  "language_info": {
   "codemirror_mode": {
    "name": "ipython",
    "version": 3
   },
   "file_extension": ".py",
   "mimetype": "text/x-python",
   "name": "python",
   "nbconvert_exporter": "python",
   "pygments_lexer": "ipython3",
   "version": "3.8.8"
  }
 },
 "nbformat": 4,
 "nbformat_minor": 5
}
